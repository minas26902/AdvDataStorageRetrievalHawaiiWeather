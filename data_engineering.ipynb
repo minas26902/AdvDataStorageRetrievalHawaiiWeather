{
 "cells": [
  {
   "cell_type": "markdown",
   "metadata": {},
   "source": [
    "# SQL - Advanced Data Storage Retrieval\n",
    "## HW#9 Due February 7"
   ]
  },
  {
   "cell_type": "markdown",
   "metadata": {},
   "source": [
    "## Step 1 - Data Engineering"
   ]
  },
  {
   "cell_type": "code",
   "execution_count": 2,
   "metadata": {
    "collapsed": true
   },
   "outputs": [],
   "source": [
    "#Import dependencies\n",
    "import pandas as pd"
   ]
  },
  {
   "cell_type": "code",
   "execution_count": 3,
   "metadata": {},
   "outputs": [
    {
     "name": "stdout",
     "output_type": "stream",
     "text": [
      "           station        date  prcp tobs\n",
      "0      USC00519397  2010-01-01  0.08   65\n",
      "1      USC00519397  2010-01-02     0   63\n",
      "2      USC00519397  2010-01-03     0   74\n",
      "3      USC00519397  2010-01-04     0   76\n",
      "4      USC00519397  2010-01-07  0.06   70\n",
      "5      USC00519397  2010-01-08     0   64\n",
      "6      USC00519397  2010-01-09     0   68\n",
      "7      USC00519397  2010-01-10     0   73\n",
      "8      USC00519397  2010-01-11  0.01   64\n",
      "9      USC00519397  2010-01-12     0   61\n",
      "10     USC00519397  2010-01-14     0   66\n",
      "11     USC00519397  2010-01-15     0   65\n",
      "12     USC00519397  2010-01-16     0   68\n",
      "13     USC00519397  2010-01-17     0   64\n",
      "14     USC00519397  2010-01-18     0   72\n",
      "15     USC00519397  2010-01-19     0   66\n",
      "16     USC00519397  2010-01-20     0   66\n",
      "17     USC00519397  2010-01-21     0   69\n",
      "18     USC00519397  2010-01-22     0   67\n",
      "19     USC00519397  2010-01-23     0   67\n",
      "20     USC00519397  2010-01-24  0.01   71\n",
      "21     USC00519397  2010-01-25     0   67\n",
      "22     USC00519397  2010-01-26  0.04   76\n",
      "23     USC00519397  2010-01-27  0.12   68\n",
      "24     USC00519397  2010-01-28     0   72\n",
      "25     USC00519397  2010-01-31  0.03   67\n",
      "26     USC00519397  2010-02-01  0.01   66\n",
      "27     USC00519397  2010-02-04  0.01   69\n",
      "28     USC00519397  2010-02-05     0   67\n",
      "29     USC00519397  2010-02-06     0   67\n",
      "...            ...         ...   ...  ...\n",
      "18073  USC00516128  2017-07-17  0.39   72\n",
      "18074  USC00516128  2017-07-18   2.4   77\n",
      "18075  USC00516128  2017-07-19  0.27   74\n",
      "18076  USC00516128  2017-07-20   0.7   75\n",
      "18077  USC00516128  2017-07-21   0.1   72\n",
      "18078  USC00516128  2017-07-22     4   72\n",
      "18079  USC00516128  2017-07-23   0.8   78\n",
      "18080  USC00516128  2017-07-24  0.84   77\n",
      "18081  USC00516128  2017-07-25   0.3   79\n",
      "18082  USC00516128  2017-07-26   0.3   73\n",
      "18083  USC00516128  2017-07-27     0   75\n",
      "18084  USC00516128  2017-07-28   0.4   73\n",
      "18085  USC00516128  2017-07-29   0.3   77\n",
      "18086  USC00516128  2017-07-30   0.3   79\n",
      "18087  USC00516128  2017-07-31     0   74\n",
      "18088  USC00516128  2017-08-02  0.25   80\n",
      "18089  USC00516128  2017-08-03  0.06   76\n",
      "18090  USC00516128  2017-08-07  0.05   78\n",
      "18091  USC00516128  2017-08-08  0.34   74\n",
      "18092  USC00516128  2017-08-09  0.15   71\n",
      "18093  USC00516128  2017-08-10  0.07   75\n",
      "18094  USC00516128  2017-08-12  0.14   74\n",
      "18095  USC00516128  2017-08-14  0.22   79\n",
      "18096  USC00516128  2017-08-15  0.42   70\n",
      "18097  USC00516128  2017-08-16  0.42   71\n",
      "18098  USC00516128  2017-08-17  0.13   72\n",
      "18099  USC00516128  2017-08-19  0.09   71\n",
      "18100  USC00516128  2017-08-21  0.56   76\n",
      "18101  USC00516128  2017-08-22   0.5   76\n",
      "18102  USC00516128  2017-08-23  0.45   76\n",
      "\n",
      "[18103 rows x 4 columns]\n"
     ]
    }
   ],
   "source": [
    "#Import measurements and stations CSV files and as DFs\n",
    "measurements_df=pd.read_csv(\"resources/hawaii_measurements.csv\", dtype = object)\n",
    "stations_df=pd.read_csv(\"resources/hawaii_stations.csv\", dtype = object)\n",
    "#print (measurements_df)\n",
    "#print(stations_df)\n",
    "\n",
    "#Check and clean data\n",
    "#print (measurements_df.count()) #1447 MISSING PRCP POINTS.\n",
    "#print (stations_df.count()) #OK NO MISSING DATA IN STATIONS DF\n",
    "\n",
    "#Drop any NaNS in measurement df and reset index\n",
    "measurements_clean_df=measurements_df.dropna(how='any').reset_index(drop=True)\n",
    "#print (measurements_clean_df.count())\n",
    "\n",
    "#Check for duplicates in measurements df\n",
    "measurements_clean_df=measurements_clean_df.drop_duplicates()\n",
    "#print (measurements_clean_df.count()) #OK, NO DUPLICATES FOUND\n",
    "print(measurements_clean_df)"
   ]
  },
  {
   "cell_type": "code",
   "execution_count": 4,
   "metadata": {},
   "outputs": [],
   "source": [
    "#Save cleaned dataframes to csv\n",
    "measurements_clean_df.to_csv(\"measurements_clean_df\") # index=False, header=True)\n",
    "stations_df.to_csv(\"stations_clean_df\")"
   ]
  },
  {
   "cell_type": "code",
   "execution_count": null,
   "metadata": {
    "collapsed": true
   },
   "outputs": [],
   "source": []
  }
 ],
 "metadata": {
  "kernelspec": {
   "display_name": "Python 3",
   "language": "python",
   "name": "python3"
  },
  "language_info": {
   "codemirror_mode": {
    "name": "ipython",
    "version": 3
   },
   "file_extension": ".py",
   "mimetype": "text/x-python",
   "name": "python",
   "nbconvert_exporter": "python",
   "pygments_lexer": "ipython3",
   "version": "3.6.1"
  }
 },
 "nbformat": 4,
 "nbformat_minor": 2
}
